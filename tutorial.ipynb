{
 "cells": [
  {
   "cell_type": "markdown",
   "metadata": {},
   "source": [
    "# Creating Heatmaps from any Sequencing Experiment"
   ]
  },
  {
   "cell_type": "code",
   "execution_count": 87,
   "metadata": {},
   "outputs": [],
   "source": [
    "import pandas as pd\n",
    "import numpy as np\n",
    "import subprocess, os\n",
    "import matplotlib.pyplot as plt\n",
    "%matplotlib inline\n",
    "import seaborn as sns\n",
    "from sklearn.cluster import KMeans\n",
    "from IPython.display import clear_output\n",
    "import time"
   ]
  },
  {
   "cell_type": "markdown",
   "metadata": {},
   "source": [
    "## Creating a list of Consensus Sequences\n",
    "\n",
    "With RNA-seq Heatmaps, each row represents a gene, making alignment of RNA-seq data to a heatmap relatively straightforward. However, with other sequencing experiments such as ATAC-seq, there are no such strict boundaries on what constitutes the rows of the heatmap. From my experience, creating a list of consensus sequences across all samples is the most efficient way to create rows.\n",
    "\n",
    "While there are no doubt many ways to go about creating this list, the most straightforward method that I have found is to use bedtools and a custom python script to find all regions of overlap, and save the read counts as a matrix."
   ]
  },
  {
   "cell_type": "markdown",
   "metadata": {},
   "source": [
    "### Let's get some data to play with!\n",
    "\n",
    "I am going to download [liver](https://www.encodeproject.org/experiments/ENCSR785NEL/) and [brain](https://www.encodeproject.org/experiments/ENCSR273UFV/) BAM files from ENCODE to use as tutorial data. BAM peaks will then be called so I can get the genomic loci for each file and the read counts at each loci. There are a variety of different programs which call peaks, so use whichever method works best for you. Here are some other methods which you can use:\n",
    "\n",
    "* [Genrich](https://github.com/jsh58/Genrich)\n",
    "* [MACS2](https://github.com/taoliu/MACS)\n",
    "* [HOMER](http://homer.ucsd.edu/homer/ngs/peaks.html)\n",
    "* [HMMRATAC](https://github.com/LiuLabUB/HMMRATAC)\n",
    "\n",
    "Genrich and MACS2 are the current standards, though Genrich has not been published yet. I will be using Genrich in this tutorial, but Galaxy also has a great [tutorial](https://galaxyproject.github.io/training-material/topics/epigenetics/tutorials/atac-seq/tutorial.html#peak-calling) on MACS2 if you want to use that instead."
   ]
  },
  {
   "cell_type": "code",
   "execution_count": 2,
   "metadata": {},
   "outputs": [],
   "source": [
    "def run_genrich(bam,outpath,path=0):\n",
    "    # given some bam, run genrich and send narrowPeak and bed output to output\n",
    "    # path to genrich script can be specified. Otherwise, will assume that `Genrich` is the path\n",
    "    if '/' in bam:\n",
    "        header = bam.split('/')[-1].split('.bam')[0]\n",
    "    elif '.bam' in bam:\n",
    "        header = bam.split('.bam')[0]\n",
    "    else:\n",
    "        print(\"ERROR, please use a valid BAM file\")\n",
    "    if outpath[-1] != '/':\n",
    "        outpath += '/'\n",
    "        \n",
    "    outnarrow = outpath + header + '.narrowPeak'\n",
    "    outbed = outpath + header + '.bed'\n",
    "    if path == 0:\n",
    "        path = 'Genrich'\n",
    "        \n",
    "    subprocess.run(path+ ' -t ' + bam + ' -o ' + outnarrow + \" -b \" + outbed + \" -r -v\",shell=True,check=True)"
   ]
  },
  {
   "cell_type": "code",
   "execution_count": null,
   "metadata": {},
   "outputs": [],
   "source": [
    "bamdir = '/mnt/labshare/chromatin-datasets/'\n",
    "filenames = ['liver-p1.sorted.bam', 'liver-p2.sorted.bam','brain-p1.sorted.bam','brain-p2.sorted.bam']\n",
    "\n",
    "# I have my bam files stored in the directory `/mnt/labshare/chromatin-datasets/`\n",
    "# For the specified filenames in said directory, run genrich\n",
    "\n",
    "for i in os.listdir(bamdir):\n",
    "    if i in filenames:\n",
    "        run_genrich(bamdir+i,\".\",'Genrich')"
   ]
  },
  {
   "cell_type": "markdown",
   "metadata": {},
   "source": [
    "Now we have our peak sequences!\n",
    "\n",
    "Once we have our files, we can work on decreasing the size of our giant bed files. The best way to do this is to use `bedtools merge`.\n",
    "\n",
    "example:\n",
    "\n",
    "`sort -k 1,1 -k2,2n liver-p1.bed | bedtools merge > liver-p1.merged.bed`"
   ]
  },
  {
   "cell_type": "markdown",
   "metadata": {},
   "source": [
    "Now we have our merged files. Lets combine them all, sort them, then merge them again so that we get our consensus sequences. \n",
    "\n",
    "`cat *.merged.bed | sort -k 1,1 -k2,2n | bedtools merge > consensus.bed`"
   ]
  },
  {
   "cell_type": "markdown",
   "metadata": {},
   "source": [
    "Congrats, we have our consensus sequence! However, we still need readcounts per sample for each of these loci. We can use bedtools coverage to get that data.\n",
    "\n",
    "ex: `bedtools coverage -a consensus.bed -b liver-p1.sorted.bam -counts -sorted > liver-p1.reads.bed`"
   ]
  },
  {
   "cell_type": "markdown",
   "metadata": {},
   "source": [
    "### What files do we have now?\n",
    "\n",
    "Ok, that was a lot. Lets review what files we have created so far.\n",
    "\n",
    "1. We have bam files for every sample and experiment.\n",
    "2. We have bed files and narrowPeak files for the peak calls in those experiments.\n",
    "3. We have merged bed files per sample per experiment.\n",
    "4. We have a consensus bed sequence.\n",
    "5. We have bed files for every sample/experiment with readcounts for each consensus sequence\n",
    "\n",
    "For the creation of our heatmap, and for general DE analysis, we only need the bed file wiht read counts (5) going forward."
   ]
  },
  {
   "cell_type": "markdown",
   "metadata": {},
   "source": [
    "## Creating a read count matrix\n",
    "\n",
    "Now that we have our consensus bed sequences, we can use it to create a matrix of read counts per loci for each sample. You can run the below code to create your matrix."
   ]
  },
  {
   "cell_type": "code",
   "execution_count": 3,
   "metadata": {},
   "outputs": [],
   "source": [
    "def create_matrix(beddir,headerspec=0):\n",
    "    \n",
    "    \"\"\"\n",
    "    Take in some directory of bed files, and output a df of readcounts per loci, assuming\n",
    "    each has the same loci. headerspec can be used to specify what files to analyze\n",
    "    \"\"\"\n",
    "    \n",
    "    header = []\n",
    "    files = []\n",
    "    \n",
    "    if beddir[-1] != '/':\n",
    "        beddir += '/'\n",
    "    for i in os.listdir(beddir):\n",
    "        if headerspec == 0:\n",
    "            if '.bed' in i:\n",
    "                files.append(beddir+i)\n",
    "                header.append(i.split('.bed')[0])\n",
    "        else:\n",
    "            if '.bed' in i and headerspec in i:\n",
    "                files.append(beddir+i)\n",
    "                header.append(i.split('.bed')[0])\n",
    "    \n",
    "    matrixrc = {}\n",
    "    \n",
    "    for i in range(len(files)):\n",
    "        name = files[i]\n",
    "        bed = pd.read_table(name,header=None)\n",
    "        if i == 0:\n",
    "            loci = np.array(bed[0])+\":\"+np.array(bed[1].astype(str))+'-'+np.array(bed[2].astype(str))\n",
    "            matrixrc['loci'] = list(loci)\n",
    "        matrixrc[header[i]] = bed[3].to_list()\n",
    "    matrix = pd.DataFrame(matrixrc)\n",
    "    matrix = matrix.set_index('loci')\n",
    "    return(matrix)"
   ]
  },
  {
   "cell_type": "code",
   "execution_count": 4,
   "metadata": {},
   "outputs": [],
   "source": [
    "rctable = create_matrix('.','reads')"
   ]
  },
  {
   "cell_type": "code",
   "execution_count": 5,
   "metadata": {},
   "outputs": [
    {
     "data": {
      "text/html": [
       "<div>\n",
       "<style scoped>\n",
       "    .dataframe tbody tr th:only-of-type {\n",
       "        vertical-align: middle;\n",
       "    }\n",
       "\n",
       "    .dataframe tbody tr th {\n",
       "        vertical-align: top;\n",
       "    }\n",
       "\n",
       "    .dataframe thead th {\n",
       "        text-align: right;\n",
       "    }\n",
       "</style>\n",
       "<table border=\"1\" class=\"dataframe\">\n",
       "  <thead>\n",
       "    <tr style=\"text-align: right;\">\n",
       "      <th></th>\n",
       "      <th>brain-p1.reads</th>\n",
       "      <th>liver-p2.reads</th>\n",
       "      <th>liver-p1.reads</th>\n",
       "      <th>brain-p2.reads</th>\n",
       "    </tr>\n",
       "    <tr>\n",
       "      <th>loci</th>\n",
       "      <th></th>\n",
       "      <th></th>\n",
       "      <th></th>\n",
       "      <th></th>\n",
       "    </tr>\n",
       "  </thead>\n",
       "  <tbody>\n",
       "    <tr>\n",
       "      <th>chr1:3000147-3000296</th>\n",
       "      <td>0</td>\n",
       "      <td>2</td>\n",
       "      <td>0</td>\n",
       "      <td>0</td>\n",
       "    </tr>\n",
       "    <tr>\n",
       "      <th>chr1:3001734-3001776</th>\n",
       "      <td>2</td>\n",
       "      <td>0</td>\n",
       "      <td>0</td>\n",
       "      <td>0</td>\n",
       "    </tr>\n",
       "    <tr>\n",
       "      <th>chr1:3003137-3015174</th>\n",
       "      <td>390</td>\n",
       "      <td>310</td>\n",
       "      <td>132</td>\n",
       "      <td>370</td>\n",
       "    </tr>\n",
       "    <tr>\n",
       "      <th>chr1:3020240-3022071</th>\n",
       "      <td>12</td>\n",
       "      <td>14</td>\n",
       "      <td>6</td>\n",
       "      <td>8</td>\n",
       "    </tr>\n",
       "    <tr>\n",
       "      <th>chr1:3025892-3026349</th>\n",
       "      <td>0</td>\n",
       "      <td>2</td>\n",
       "      <td>0</td>\n",
       "      <td>0</td>\n",
       "    </tr>\n",
       "    <tr>\n",
       "      <th>...</th>\n",
       "      <td>...</td>\n",
       "      <td>...</td>\n",
       "      <td>...</td>\n",
       "      <td>...</td>\n",
       "    </tr>\n",
       "    <tr>\n",
       "      <th>chrY_JH584301_random:145257-145623</th>\n",
       "      <td>0</td>\n",
       "      <td>2</td>\n",
       "      <td>0</td>\n",
       "      <td>0</td>\n",
       "    </tr>\n",
       "    <tr>\n",
       "      <th>chrY_JH584301_random:206922-208298</th>\n",
       "      <td>0</td>\n",
       "      <td>2</td>\n",
       "      <td>0</td>\n",
       "      <td>0</td>\n",
       "    </tr>\n",
       "    <tr>\n",
       "      <th>chrY_JH584301_random:233398-233445</th>\n",
       "      <td>0</td>\n",
       "      <td>0</td>\n",
       "      <td>0</td>\n",
       "      <td>2</td>\n",
       "    </tr>\n",
       "    <tr>\n",
       "      <th>chrY_JH584302_random:118507-119205</th>\n",
       "      <td>2</td>\n",
       "      <td>0</td>\n",
       "      <td>0</td>\n",
       "      <td>0</td>\n",
       "    </tr>\n",
       "    <tr>\n",
       "      <th>chrY_JH584303_random:38266-38422</th>\n",
       "      <td>0</td>\n",
       "      <td>2</td>\n",
       "      <td>0</td>\n",
       "      <td>0</td>\n",
       "    </tr>\n",
       "  </tbody>\n",
       "</table>\n",
       "<p>226950 rows × 4 columns</p>\n",
       "</div>"
      ],
      "text/plain": [
       "                                    brain-p1.reads  liver-p2.reads  \\\n",
       "loci                                                                 \n",
       "chr1:3000147-3000296                             0               2   \n",
       "chr1:3001734-3001776                             2               0   \n",
       "chr1:3003137-3015174                           390             310   \n",
       "chr1:3020240-3022071                            12              14   \n",
       "chr1:3025892-3026349                             0               2   \n",
       "...                                            ...             ...   \n",
       "chrY_JH584301_random:145257-145623               0               2   \n",
       "chrY_JH584301_random:206922-208298               0               2   \n",
       "chrY_JH584301_random:233398-233445               0               0   \n",
       "chrY_JH584302_random:118507-119205               2               0   \n",
       "chrY_JH584303_random:38266-38422                 0               2   \n",
       "\n",
       "                                    liver-p1.reads  brain-p2.reads  \n",
       "loci                                                                \n",
       "chr1:3000147-3000296                             0               0  \n",
       "chr1:3001734-3001776                             0               0  \n",
       "chr1:3003137-3015174                           132             370  \n",
       "chr1:3020240-3022071                             6               8  \n",
       "chr1:3025892-3026349                             0               0  \n",
       "...                                            ...             ...  \n",
       "chrY_JH584301_random:145257-145623               0               0  \n",
       "chrY_JH584301_random:206922-208298               0               0  \n",
       "chrY_JH584301_random:233398-233445               0               2  \n",
       "chrY_JH584302_random:118507-119205               0               0  \n",
       "chrY_JH584303_random:38266-38422                 0               0  \n",
       "\n",
       "[226950 rows x 4 columns]"
      ]
     },
     "execution_count": 5,
     "metadata": {},
     "output_type": "execute_result"
    }
   ],
   "source": [
    "rctable"
   ]
  },
  {
   "cell_type": "markdown",
   "metadata": {},
   "source": [
    "Nice, we have our table now! Taking a quick glance at it, it seems that some regions might be real, and some might be unimportant (how important could sequences with only 2 reads be among all the samples). \n",
    "\n",
    "Here we can play around with different thresholds to use to remove false positives from our dataset."
   ]
  },
  {
   "cell_type": "code",
   "execution_count": 46,
   "metadata": {},
   "outputs": [],
   "source": [
    "def threshold_readcounts(df,j,n):\n",
    "    \"\"\"\n",
    "    take in a dataframe of sequence read counts, and output a dataframe of \n",
    "    reads with at least j reads in at least n samples\n",
    "    \"\"\"\n",
    "    threshreadcounts = {}\n",
    "    loci = []\n",
    "    for i in df.columns.to_list():\n",
    "        threshreadcounts[i] = []\n",
    "    for index,row in df.iterrows():\n",
    "        atleast = 0\n",
    "        for t in row.to_list():\n",
    "            if type(t) != str:\n",
    "                if t >= j:\n",
    "                    atleast += 1\n",
    "            if atleast >= n:\n",
    "                loci.append(index)\n",
    "                for s in range(len(list(threshreadcounts.keys()))):\n",
    "                    threshreadcounts[list(threshreadcounts.keys())[s]].append(row[s])\n",
    "                break\n",
    "    threshreadcounts['loci'] = loci\n",
    "    data = pd.DataFrame.from_dict(threshreadcounts)\n",
    "    data = data.set_index('loci')\n",
    "    return(data)"
   ]
  },
  {
   "cell_type": "code",
   "execution_count": 47,
   "metadata": {},
   "outputs": [],
   "source": [
    "less_stringent = threshold_readcounts(rctable,4,2)"
   ]
  },
  {
   "cell_type": "code",
   "execution_count": 48,
   "metadata": {},
   "outputs": [],
   "source": [
    "more_stringent = threshold_readcounts(rctable,8,2)"
   ]
  },
  {
   "cell_type": "code",
   "execution_count": 49,
   "metadata": {},
   "outputs": [],
   "source": [
    "very_stringent = threshold_readcounts(rctable,14,2)"
   ]
  },
  {
   "cell_type": "markdown",
   "metadata": {},
   "source": [
    "## Normalization\n",
    "\n",
    "Now that we have our filtered data, we can normalize it. There are a variety of different ways to normalize sequencing data, and many different packages contain implementations of these different algorithms, such as edgeR and DeSeq2. Unfortunately, these algorithms have only been implemented in R. For a tutorial on using these packages to normalize data, check out this [blog](https://davetang.org/muse/2011/01/24/normalisation-methods-for-dge-data/). \n",
    "\n",
    "Below is my own implementation of the normalization method TMM, adapted from these papers [Robinson and Oshlack](https://www.ncbi.nlm.nih.gov/pmc/articles/PMC2864565/#S1) and [Maza](https://doi.org/10.3389/fgene.2016.00164), as well as the edgeR source code."
   ]
  },
  {
   "cell_type": "code",
   "execution_count": 410,
   "metadata": {},
   "outputs": [],
   "source": [
    "def TMM_norm(df,mtrim=30,atrim=5,a_thresh=-1e10):\n",
    "    \"\"\"\n",
    "    Take in some numerical matrix with indicated column names for each group in a list, and output a TMM normalized\n",
    "    matrix\n",
    "    \"\"\"\n",
    "    # pre-normalization\n",
    "    non_norm = df.copy().replace(0,np.nan).dropna()\n",
    "    n = non_norm.sum()\n",
    "    norm = non_norm.copy() / n\n",
    "\n",
    "    # identify reference sample\n",
    "    dist = []\n",
    "    quarts = norm.describe()\n",
    "    mn = quarts.loc['75%'].mean()\n",
    "    for i in norm.columns:\n",
    "        dist.append(abs(quarts[i].loc['75%'] - mn))\n",
    "    refname = norm.columns[dist.index(min(dist))]\n",
    "    \n",
    "    # calculation and trimming of M and A values\n",
    "    \n",
    "    def find_thresholds(array,val):\n",
    "        # return a lower val and upper val corresponding to val percentile and 100-val percentile of array\n",
    "        return([np.percentile(array,val),np.percentile(array,100-val)])\n",
    "    \n",
    "    rsf = []\n",
    "    lognorm = np.log2(norm.copy())\n",
    "    for i in lognorm.columns:\n",
    "        \n",
    "        #select only a single sample and reference for analysis\n",
    "        log_y=lognorm[i]\n",
    "        log_y_ref=lognorm[refname]\n",
    "        x = non_norm[i]\n",
    "        x_ref = non_norm[refname]\n",
    "\n",
    "        # calculate m values, and threshold them\n",
    "        m = log_y-log_y_ref\n",
    "        m_thresholds = find_thresholds(m,mtrim)\n",
    "        mlower = m_thresholds[0]\n",
    "        mupper = m_thresholds[1]\n",
    "        m_trimmed = m[(m >= mlower) & (m <= mupper)]\n",
    "        \n",
    "        # calculate a values, and threshold valid values\n",
    "        a = .5*(log_y + log_y_ref)\n",
    "        a = a[a >= a_thresh]\n",
    "        a_thresholds = find_thresholds(a,atrim)\n",
    "        alower = a_thresholds[0]\n",
    "        aupper = a_thresholds[1]\n",
    "        a_trimmed = a[(a >= alower) & (a <= aupper)]\n",
    "        \n",
    "        # find all non-trimmed genes\n",
    "        trims = np.intersect1d(a_trimmed.index,m_trimmed.index)\n",
    "        \n",
    "        # trim data\n",
    "        log_y_trim = log_y.loc[trims]\n",
    "        log_y_reftrim = log_y_ref.loc[trims]\n",
    "        x_trim = x.loc[trims]\n",
    "        x_reftrim = x_ref.loc[trims]\n",
    "        \n",
    "        # get readcount sums per column (non-trimmed and trimmed)\n",
    "        x_sum = n[i]\n",
    "        x_refsum = n[refname]\n",
    "        \n",
    "        # weighted means\n",
    "        avariances = (((x_sum - x)/(x_sum*x)) + ((x_refsum - x_ref)/(x_refsum*x_ref))).loc[trims]\n",
    "        rsf.append(2**((sum(m.loc[trims]/avariances))/sum(1/avariances)))\n",
    "\n",
    "    # adjusting sizes to multiply to 1:\n",
    "    geo_mean = np.exp(np.mean(np.log(rsf)))\n",
    "    rsf_to1 = np.array(rsf)/geo_mean\n",
    "    \n",
    "    # adjust for library size:\n",
    "    els = rsf_to1*n.values\n",
    "\n",
    "    # normalization and cpm:\n",
    "    TMM = (df / els)*1e6\n",
    "    \n",
    "    return(TMM)"
   ]
  },
  {
   "cell_type": "code",
   "execution_count": 413,
   "metadata": {},
   "outputs": [],
   "source": [
    "TMM = TMM_norm(less_stringent)"
   ]
  },
  {
   "cell_type": "markdown",
   "metadata": {},
   "source": [
    "## Feature Scaling\n",
    "\n",
    "Now that we have our normalized data, we need to scale the data to make a heatmap. Normalizing the data corrects for a variety of factors which could prevent the raw read counts from equaling number of transcripts (RNA-seq), binding sites (CHIP-seq), or open chormatin regions (ATAC-seq), such as length of transcript/dna, total number of reads per column, and genes/loci sequenced in some samples but not others. Scaling allows us to compare these samples together directly, row-by-row, which is what we want in a heatmap, as directly puts each cell in a row into relation with each other.\n",
    "\n",
    "There are a variety of methods to scale data:\n",
    "\n",
    "* min-max normalization\n",
    "* mean normalization\n",
    "* standardization\n",
    "* scaling to unit length\n",
    "\n",
    "Below are functions implementing all of these. We can explore how each of them looks with our data!"
   ]
  },
  {
   "cell_type": "code",
   "execution_count": 427,
   "metadata": {},
   "outputs": [],
   "source": [
    "def zscore(x):\n",
    "    return((np.mean(x)-x)/np.std(x))\n",
    "\n",
    "def min_max(x):\n",
    "    return((x-min(x))/(max(x)-min(x)))\n",
    "\n",
    "def mean_normalization(x):\n",
    "    return((x-np.mean(x))/max(x)-min(x))\n",
    "\n",
    "def scale_to_unit(x):\n",
    "    return(x/ ((x**2).sum()**0.5))"
   ]
  },
  {
   "cell_type": "code",
   "execution_count": 428,
   "metadata": {},
   "outputs": [],
   "source": [
    "TMM_stand = TMM.apply(zscore,axis=1)"
   ]
  },
  {
   "cell_type": "markdown",
   "metadata": {},
   "source": [
    "## Plotting our heatmaps!\n",
    "\n",
    "Now we can finally make some heatmaps. Seaborn has a function to create clustered heatmaps, similar to pheatmap or complexheatmap in R. However, seaborn's clustermap unfortunately is only capable of computing hierarchical clustering, which performs poorly against large datasets. This also means by default it is unable to cluster based on other algorithms such as kmeans. \n",
    "\n",
    "To circumnavigate this problem, we can use the kmeans implementation in sci-kit to re-order the rows of our heatmap into a properly clustered heatmap. **Note that if you use the default column clustering in clustermap, it will be different than the row clustering algorithm**"
   ]
  },
  {
   "cell_type": "code",
   "execution_count": 429,
   "metadata": {},
   "outputs": [],
   "source": [
    "def cluster_n_sort(x,n):\n",
    "    # Take in a dataframe, calculate kmeans, and sort\n",
    "    kmeans = KMeans(n_clusters=n).fit(x)\n",
    "    labels = kmeans.labels_\n",
    "    clust = x.copy()\n",
    "    clust['cluster'] = labels\n",
    "    clust = clust.sort_values(by=['cluster'])\n",
    "    clust = clust.drop(columns=['cluster'])\n",
    "    return(clust)"
   ]
  },
  {
   "cell_type": "code",
   "execution_count": 430,
   "metadata": {},
   "outputs": [],
   "source": [
    "tmmclust = cluster_n_sort(TMM_stand,4)"
   ]
  },
  {
   "cell_type": "code",
   "execution_count": 434,
   "metadata": {},
   "outputs": [
    {
     "data": {
      "text/plain": [
       "<seaborn.matrix.ClusterGrid at 0x7f6db74d4a00>"
      ]
     },
     "execution_count": 434,
     "metadata": {},
     "output_type": "execute_result"
    },
    {
     "data": {
      "image/png": "[encoded data removed]",
      "text/plain": [
       "<Figure size 720x720 with 4 Axes>"
      ]
     },
     "metadata": {
      "needs_background": "light"
     },
     "output_type": "display_data"
    }
   ],
   "source": [
    "sns.clustermap(tmmclust,row_cluster=False,cmap='YlGnBu',yticklabels=False)"
   ]
  }
 ],
 "metadata": {
  "kernelspec": {
   "display_name": "Python 3",
   "language": "python",
   "name": "python3"
  },
  "language_info": {
   "codemirror_mode": {
    "name": "ipython",
    "version": 3
   },
   "file_extension": ".py",
   "mimetype": "text/x-python",
   "name": "python",
   "nbconvert_exporter": "python",
   "pygments_lexer": "ipython3",
   "version": "3.8.1"
  }
 },
 "nbformat": 4,
 "nbformat_minor": 4
}
