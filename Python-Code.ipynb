{
 "cells": [
  {
   "cell_type": "markdown",
   "metadata": {},
   "source": [
    "# Creating Heatmaps from any Sequencing Experiment\n",
    "\n",
    "This notebook contains python code which I use to construct heatmaps comparing samples in different Sequencing Experiments. The notebook `R Code` contains the code used to construct heatmaps using the R package Pheatmap and edgeR for normalization.\n",
    "\n",
    "**Note** All this code can also be written in R. However, I prefer using Python as much as I can, which is why I wrote this in Python."
   ]
  },
  {
   "cell_type": "markdown",
   "metadata": {},
   "source": [
    "## Creating a list of Consensus Sequences\n",
    "\n",
    "With RNA-seq Heatmaps, each row represents a gene, making alignment of RNA-seq data to a heatmap relatively straightforward. However, with other sequencing experiments such as ATAC-seq, there are no such strict boundaries on what constitutes the rows of the heatmap. I have personally experimented with a variety of different possible ways to delimit the row in a heatmap, including tiling across the genome, and using each tile as a row, and creating a general consensus sequence of overlap between sample sequences. And I have found that using a consensus sequence provides the best results.\n",
    "\n",
    "While there are no doubt many ways to go about creating this list, the most straightforward method that I have found is to use bedtools and a custom python script to find all regions of overlap, and save the read counts as a matrix."
   ]
  },
  {
   "cell_type": "markdown",
   "metadata": {},
   "source": [
    "### Let's get some data to play with!\n",
    "\n",
    "I am going to download [heart](https://www.encodeproject.org/experiments/ENCSR820ACB/) and [brain](https://www.encodeproject.org/experiments/ENCSR273UFV/) BAM files from ENCODE to use as tutorial data. BAM peaks will then be called so I can get the genomic loci for each file and the read counts at each loci. There are a variety of different programs which call peaks, so use whichever method works best for you. Here are some other methods which you can use:\n",
    "\n",
    "* [Genrich](https://github.com/jsh58/Genrich)\n",
    "* [MACS2](https://github.com/taoliu/MACS)\n",
    "* [HOMER](http://homer.ucsd.edu/homer/ngs/peaks.html)\n",
    "* [HMMRATAC](https://github.com/LiuLabUB/HMMRATAC)\n",
    "\n",
    "Genrich and MACS2 are the current standards, though Genrich has not been published yet. I will be using Genrich in this tutorial, but Galaxy also has a great [tutorial](https://galaxyproject.github.io/training-material/topics/epigenetics/tutorials/atac-seq/tutorial.html#peak-calling) on MACS2 if you want to use that instead."
   ]
  },
  {
   "cell_type": "code",
   "execution_count": 4,
   "metadata": {},
   "outputs": [],
   "source": [
    "import pandas as pd\n",
    "import subprocess, os"
   ]
  },
  {
   "cell_type": "code",
   "execution_count": 3,
   "metadata": {},
   "outputs": [],
   "source": [
    "def run_genrich(bam,outpath,path=0):\n",
    "    # given some bam, run genrich and send narrowPeak and bed output to output\n",
    "    # path to genrich script can be specified. Otherwise, will assume that `Genrich` is the path\n",
    "    if '/' in bam:\n",
    "        header = bam.split('/')[-1].split('.bam')[0]\n",
    "    elif '.bam' in bam:\n",
    "        header = bam.split('.bam')[0]\n",
    "    else:\n",
    "        print(\"ERROR, please use a valid BAM file\")\n",
    "    if outpath[-1] != '/':\n",
    "        outpath += '/'\n",
    "        \n",
    "    outnarrow = outpath + header + '.narrowPeak'\n",
    "    outbed = outpath + header + '.bed'\n",
    "    if path == 0:\n",
    "        path = 'Genrich'\n",
    "        \n",
    "    subprocess.run(path+ ' -t ' + bam + ' -o ' + outnarrow + \" -b \" + outbed + \" -r -v\")"
   ]
  },
  {
   "cell_type": "code",
   "execution_count": 7,
   "metadata": {},
   "outputs": [
    {
     "name": "stdout",
     "output_type": "stream",
     "text": [
      "/mnt/labshare/chromatin-datasets/brain-p1.sorted.bam\n",
      "/mnt/labshare/chromatin-datasets/liver-p1.sorted.bam\n",
      "/mnt/labshare/chromatin-datasets/liver-p2.sorted.bam\n"
     ]
    }
   ],
   "source": [
    "bamdir = '/mnt/labshare/chromatin-datasets/'\n",
    "filenames = ['liver-p1.sorted.bam', 'liver-p2.sorted.bam','brain-p1.sorted.bam','brain-p2.sorted.bam']\n",
    "\n",
    "for i in os.listdir(bamdir):\n",
    "    if i in filenames:\n",
    "        print(bamdir+i)"
   ]
  },
  {
   "cell_type": "code",
   "execution_count": null,
   "metadata": {},
   "outputs": [],
   "source": []
  }
 ],
 "metadata": {
  "kernelspec": {
   "display_name": "Python 3",
   "language": "python",
   "name": "python3"
  },
  "language_info": {
   "codemirror_mode": {
    "name": "ipython",
    "version": 3
   },
   "file_extension": ".py",
   "mimetype": "text/x-python",
   "name": "python",
   "nbconvert_exporter": "python",
   "pygments_lexer": "ipython3",
   "version": "3.8.1"
  }
 },
 "nbformat": 4,
 "nbformat_minor": 2
}
